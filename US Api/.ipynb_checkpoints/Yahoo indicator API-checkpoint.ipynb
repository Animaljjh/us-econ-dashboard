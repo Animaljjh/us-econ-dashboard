{
 "cells": [
  {
   "cell_type": "code",
   "execution_count": null,
   "id": "e95a441c-32d9-4db0-a617-ea6f3fa058e6",
   "metadata": {},
   "outputs": [
    {
     "name": "stdout",
     "output_type": "stream",
     "text": [
      "⏳ Downloading USDJPY...\n"
     ]
    },
    {
     "name": "stderr",
     "output_type": "stream",
     "text": [
      "/var/folders/3c/lkddtx1n5fl07srkt8ybnc4m0000gn/T/ipykernel_53706/3203764916.py:31: FutureWarning: YF.download() has changed argument auto_adjust default to True\n",
      "  data = yf.download(symbol, start='1900-01-01', progress=False)\n"
     ]
    },
    {
     "name": "stdout",
     "output_type": "stream",
     "text": [
      "✅ USDJPY saved successfully: /Users/jay/us-econ-dashboard/public/USDJPY.csv (7442 rows)\n",
      "⏳ Downloading S&P 500...\n"
     ]
    },
    {
     "name": "stderr",
     "output_type": "stream",
     "text": [
      "/var/folders/3c/lkddtx1n5fl07srkt8ybnc4m0000gn/T/ipykernel_53706/3203764916.py:31: FutureWarning: YF.download() has changed argument auto_adjust default to True\n",
      "  data = yf.download(symbol, start='1900-01-01', progress=False)\n"
     ]
    },
    {
     "name": "stdout",
     "output_type": "stream",
     "text": [
      "✅ S&P 500 saved successfully: /Users/jay/us-econ-dashboard/public/S&P_500.csv (24497 rows)\n",
      "⏳ Downloading Dow Jones (DJI)...\n"
     ]
    },
    {
     "name": "stderr",
     "output_type": "stream",
     "text": [
      "/var/folders/3c/lkddtx1n5fl07srkt8ybnc4m0000gn/T/ipykernel_53706/3203764916.py:31: FutureWarning: YF.download() has changed argument auto_adjust default to True\n",
      "  data = yf.download(symbol, start='1900-01-01', progress=False)\n"
     ]
    },
    {
     "name": "stdout",
     "output_type": "stream",
     "text": [
      "✅ Dow Jones (DJI) saved successfully: /Users/jay/us-econ-dashboard/public/Dow_Jones_DJI.csv (8441 rows)\n",
      "⏳ Downloading NASDAQ (IXIC)...\n"
     ]
    },
    {
     "name": "stderr",
     "output_type": "stream",
     "text": [
      "/var/folders/3c/lkddtx1n5fl07srkt8ybnc4m0000gn/T/ipykernel_53706/3203764916.py:31: FutureWarning: YF.download() has changed argument auto_adjust default to True\n",
      "  data = yf.download(symbol, start='1900-01-01', progress=False)\n"
     ]
    },
    {
     "name": "stdout",
     "output_type": "stream",
     "text": [
      "✅ NASDAQ (IXIC) saved successfully: /Users/jay/us-econ-dashboard/public/NASDAQ_IXIC.csv (13723 rows)\n",
      "⏳ Downloading WTI Crude Oil...\n"
     ]
    },
    {
     "name": "stderr",
     "output_type": "stream",
     "text": [
      "/var/folders/3c/lkddtx1n5fl07srkt8ybnc4m0000gn/T/ipykernel_53706/3203764916.py:31: FutureWarning: YF.download() has changed argument auto_adjust default to True\n",
      "  data = yf.download(symbol, start='1900-01-01', progress=False)\n"
     ]
    }
   ],
   "source": [
    "import yfinance as yf\n",
    "import pandas as pd\n",
    "import os\n",
    "\n",
    "# 📁 저장 경로\n",
    "SAVE_PATH = '/Users/jay/us-econ-dashboard/public'\n",
    "\n",
    "# 📊 지표 목록 (정확한 명칭으로 표기, S&P500 -> ^GSPC로 수정)\n",
    "symbols = {\n",
    "    'USDJPY': 'JPY=X',                             # USD/JPY 환율\n",
    "    'S&P 500': '^GSPC',                            # ✅ S&P 500 지수 (정식)\n",
    "    'Dow Jones (DJI)': '^DJI',                     # 다우존스\n",
    "    'NASDAQ (IXIC)': '^IXIC',                      # 나스닥\n",
    "    'WTI Crude Oil': 'CL=F',                       # WTI 원유\n",
    "    'Brent Crude Oil': 'BZ=F',                     # 브렌트유\n",
    "    'Copper': 'HG=F',                              # 구리\n",
    "    'Gold': 'GC=F',                                # 금\n",
    "    'Silver': 'SI=F',                              # 은\n",
    "    'VIX Index': '^VIX',                           # 변동성 지수\n",
    "    'US Dollar Index (DXY)': 'DX-Y.NYB',           # 달러 인덱스\n",
    "    'US 10Y Treasury Yield (TNX)': '^TNX',         # 10년 국채\n",
    "    'US 13W T-Bill Rate (IRX)': '^IRX',            # 13주 T-Bill\n",
    "    'US 30Y Treasury Yield (TYX)': '^TYX',         # 30년 국채\n",
    "    'Bitcoin (BTC-USD)': 'BTC-USD'                 # 비트코인\n",
    "}\n",
    "\n",
    "# 📥 데이터 다운로드 및 CSV 저장\n",
    "for name, symbol in symbols.items():\n",
    "    try:\n",
    "        print(f\"⏳ Downloading {name}...\")\n",
    "        data = yf.download(symbol, start='1900-01-01', progress=False)\n",
    "\n",
    "        if data.empty:\n",
    "            print(f\"❗ {name}: No data available.\")\n",
    "            continue\n",
    "\n",
    "        df = data[['Close']].reset_index()\n",
    "        df.columns = ['date', 'value']\n",
    "\n",
    "        filename = os.path.join(\n",
    "            SAVE_PATH,\n",
    "            f\"{name.replace(' ', '_').replace('(', '').replace(')', '').replace('-', '').replace('/', '')}.csv\"\n",
    "        )\n",
    "        df.to_csv(filename, index=False)\n",
    "\n",
    "        print(f\"✅ {name} saved successfully: {filename} ({len(df)} rows)\")\n",
    "\n",
    "    except Exception as e:\n",
    "        print(f\"❌ {name} error: {e}\")\n",
    "\n",
    "# 📊 장단기 금리 스프레드 계산 (10Y - 13W)\n",
    "try:\n",
    "    tnx_df = pd.read_csv(os.path.join(SAVE_PATH, 'US_10Y_Treasury_Yield_TNX.csv'))\n",
    "    irx_df = pd.read_csv(os.path.join(SAVE_PATH, 'US_13W_TBill_Rate_IRX.csv'))\n",
    "\n",
    "    merged = pd.merge(tnx_df, irx_df, on='date', suffixes=('_10Y', '_13W'))\n",
    "    merged['value'] = merged['value_10Y'] - merged['value_13W']\n",
    "\n",
    "    spread_filename = os.path.join(SAVE_PATH, 'Yield_Spread_10Y_minus_13W.csv')\n",
    "    merged[['date', 'value']].to_csv(spread_filename, index=False)\n",
    "\n",
    "    print(f\"✅ Yield Spread saved: {spread_filename} ({len(merged)} rows)\")\n",
    "\n",
    "except Exception as e:\n",
    "    print(f\"❌ Yield Spread error: {e}\")\n"
   ]
  },
  {
   "cell_type": "code",
   "execution_count": null,
   "id": "73b2301b-f53e-45ec-88dd-e7ee9e0f2050",
   "metadata": {},
   "outputs": [],
   "source": []
  }
 ],
 "metadata": {
  "kernelspec": {
   "display_name": "Python 3 (ipykernel)",
   "language": "python",
   "name": "python3"
  },
  "language_info": {
   "codemirror_mode": {
    "name": "ipython",
    "version": 3
   },
   "file_extension": ".py",
   "mimetype": "text/x-python",
   "name": "python",
   "nbconvert_exporter": "python",
   "pygments_lexer": "ipython3",
   "version": "3.10.10"
  }
 },
 "nbformat": 4,
 "nbformat_minor": 5
}
