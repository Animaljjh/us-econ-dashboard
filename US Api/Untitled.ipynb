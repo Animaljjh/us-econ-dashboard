{
 "cells": [
  {
   "cell_type": "code",
   "execution_count": 1,
   "id": "aa88c3c8",
   "metadata": {},
   "outputs": [
    {
     "name": "stdout",
     "output_type": "stream",
     "text": [
      "         date  value\n",
      "0  1954-07-01   1.13\n",
      "1  1954-07-02   1.25\n",
      "2  1954-07-03   1.25\n",
      "3  1954-07-04   1.25\n",
      "4  1954-07-05   0.88\n"
     ]
    }
   ],
   "source": [
    "import pandas as pd\n",
    "\n",
    "# CSV 읽기\n",
    "df = pd.read_csv('DFEDTARU.csv')\n",
    "\n",
    "# 컬럼명 소문자로\n",
    "df.columns = [c.lower() for c in df.columns]\n",
    "\n",
    "# date 컬럼을 datetime으로 변환\n",
    "df['date'] = pd.to_datetime(df['date'], format='%m/%d/%Y')\n",
    "\n",
    "# 날짜순으로 정렬\n",
    "df = df.sort_values(by='date')\n",
    "\n",
    "# date 컬럼을 YYYY-MM-DD 형식으로 변환\n",
    "df['date'] = df['date'].dt.strftime('%Y-%m-%d')\n",
    "\n",
    "# 결과 확인\n",
    "print(df.head())\n",
    "\n",
    "# CSV로 저장\n",
    "df.to_csv('DFEDTARU_reformatted.csv', index=False)\n"
   ]
  },
  {
   "cell_type": "code",
   "execution_count": null,
   "id": "a24c847f",
   "metadata": {},
   "outputs": [],
   "source": []
  }
 ],
 "metadata": {
  "kernelspec": {
   "display_name": "Python 3 (ipykernel)",
   "language": "python",
   "name": "python3"
  },
  "language_info": {
   "codemirror_mode": {
    "name": "ipython",
    "version": 3
   },
   "file_extension": ".py",
   "mimetype": "text/x-python",
   "name": "python",
   "nbconvert_exporter": "python",
   "pygments_lexer": "ipython3",
   "version": "3.10.10"
  }
 },
 "nbformat": 4,
 "nbformat_minor": 5
}
